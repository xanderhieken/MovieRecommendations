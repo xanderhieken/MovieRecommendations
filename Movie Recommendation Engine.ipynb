{
 "cells": [
  {
   "cell_type": "markdown",
   "metadata": {},
   "source": [
    "# Building a Movie Recommendation Engine\n",
    "## Xander Hieken\n",
    "***\n",
    "### Data Preparation\n",
    "\n",
    "Load the data from the `ratings.csv` and `movies.csv` files and combine them on `movieId`. \n",
    "\n",
    "*The resultant data set should contain all of the user ratings and include movie titles.*"
   ]
  },
  {
   "cell_type": "code",
   "execution_count": 1,
   "metadata": {},
   "outputs": [],
   "source": [
    "import pyspark\n",
    "from pyspark.sql import SparkSession\n",
    "from pyspark.sql.types import StructType\n",
    "from pyspark.ml.evaluation import RegressionEvaluator\n",
    "from pyspark.ml.recommendation import ALS\n",
    "from pyspark.sql import Row\n",
    "import warnings\n",
    "warnings.filterwarnings('ignore')\n",
    "\n",
    "# Starting the SparkSession\n",
    "spark = SparkSession.builder \\\n",
    "                    .appName(\"MovieRatings\") \\\n",
    "                    .getOrCreate()\n",
    "\n",
    "# Defining the schema for both csv files\n",
    "movieSchema = StructType().add(\"movieId\", \"integer\") \\\n",
    "                         .add(\"title\", \"string\") \\\n",
    "                         .add(\"genres\", \"string\")\n",
    "\n",
    "ratingSchema = StructType().add(\"userId\", \"integer\") \\\n",
    "                         .add(\"movieIdr\", \"integer\") \\\n",
    "                         .add(\"rating\", \"float\") \\\n",
    "                         .add(\"timestamp\", \"integer\")\n",
    "\n",
    "# Reading each csv file using my defined schema\n",
    "movies = spark.read.csv(\"movielens/movies.csv\", header = True, schema = movieSchema)\n",
    "ratings = spark.read.csv(\"movielens/ratings.csv\", header = True, schema = ratingSchema)\n",
    "\n",
    "# Defining the join expression\n",
    "joinExpression = movies[\"movieId\"] == ratings[\"movieIdr\"]\n",
    "\n",
    "# Joining the dataframes\n",
    "lines = movies.join(ratings, joinExpression)\n",
    "\n",
    "# Finalizing the structure of my 'ratings' dataframe\n",
    "ratings = lines.select('userId', 'movieId', 'rating', 'timestamp', 'title', 'genres')"
   ]
  },
  {
   "cell_type": "markdown",
   "metadata": {},
   "source": [
    "***\n",
    "### Training the Recommendation Engine\n",
    "\n",
    "Using the data from the last step, I will create a movie recommendation model using collaborative filtering. \n",
    "\n",
    "Before training the recommendation model, I split the data into a training dataset and a testing dataset using the `randomSplit` dataframe method. \n",
    "\n",
    "*80% of the data will be used for training and 20% for testing.*"
   ]
  },
  {
   "cell_type": "code",
   "execution_count": 2,
   "metadata": {},
   "outputs": [],
   "source": [
    "# Using randomSplit to create an 80/20 train/test split\n",
    "(training, test) = ratings.randomSplit([0.8, 0.2])\n",
    "\n",
    "# Build the recommendation model using ALS (Alternating Least Squares) on the training data\n",
    "# Note we set cold start strategy to 'drop' to ensure we don't get NaN evaluation metrics\n",
    "als = ALS(maxIter=5, regParam=0.01, userCol=\"userId\", itemCol=\"movieId\", ratingCol=\"rating\",\n",
    "          coldStartStrategy=\"drop\")\n",
    "\n",
    "# Fit the model using the training dataset\n",
    "model = als.fit(training)"
   ]
  },
  {
   "cell_type": "markdown",
   "metadata": {},
   "source": [
    "After fitting the model using the training dataset, I calculate the predictions on the test dataset and use the `RegressionEvaluator` to calculate the root-mean-square error (RMSE) of the model."
   ]
  },
  {
   "cell_type": "code",
   "execution_count": 3,
   "metadata": {},
   "outputs": [
    {
     "name": "stdout",
     "output_type": "stream",
     "text": [
      "Root-mean-square error = 1.0797962930808434\n"
     ]
    }
   ],
   "source": [
    "# Evaluate the model by computing the RMSE on the test data\n",
    "predictions = model.transform(test)\n",
    "\n",
    "evaluator = RegressionEvaluator(metricName=\"rmse\", labelCol=\"rating\",\n",
    "                                predictionCol=\"prediction\")\n",
    "\n",
    "rmse = evaluator.evaluate(predictions)\n",
    "\n",
    "print(\"Root-mean-square error = \" + str(rmse))"
   ]
  },
  {
   "cell_type": "markdown",
   "metadata": {},
   "source": [
    "***\n",
    "### Generating Top 10 Movie Recommendations\n",
    "\n",
    "Using the recommendation model, I now generate the top ten recommendations for each user. "
   ]
  },
  {
   "cell_type": "code",
   "execution_count": 4,
   "metadata": {},
   "outputs": [],
   "source": [
    "# Generate top 10 movie recommendations for each user\n",
    "userRecs = model.recommendForAllUsers(10)"
   ]
  },
  {
   "cell_type": "markdown",
   "metadata": {},
   "source": [
    "To see some results, I want to check out the recommendations for the user IDs, 127, 151, and 300. "
   ]
  },
  {
   "cell_type": "code",
   "execution_count": 5,
   "metadata": {},
   "outputs": [],
   "source": [
    "recommendations_127 = userRecs.where(userRecs.userId == 127)\n",
    "recommendations_151 = userRecs.where(userRecs.userId == 151)\n",
    "recommendations_300 = userRecs.where(userRecs.userId == 300)"
   ]
  },
  {
   "cell_type": "code",
   "execution_count": 6,
   "metadata": {
    "scrolled": true
   },
   "outputs": [
    {
     "name": "stdout",
     "output_type": "stream",
     "text": [
      "+------+---------------------------------------------------------------------------------------------------------------------------------------------------------------------------------------+\n",
      "|userId|recommendations                                                                                                                                                                        |\n",
      "+------+---------------------------------------------------------------------------------------------------------------------------------------------------------------------------------------+\n",
      "|127   |[[70641, 11.197943], [85367, 9.942365], [43928, 9.480051], [938, 9.322339], [41573, 9.244039], [3004, 9.199526], [7155, 8.920888], [2376, 8.87927], [2565, 8.765781], [1409, 8.658605]]|\n",
      "+------+---------------------------------------------------------------------------------------------------------------------------------------------------------------------------------------+\n",
      "\n"
     ]
    }
   ],
   "source": [
    "recommendations_127.show(truncate=False)"
   ]
  },
  {
   "cell_type": "code",
   "execution_count": 7,
   "metadata": {
    "scrolled": true
   },
   "outputs": [
    {
     "name": "stdout",
     "output_type": "stream",
     "text": [
      "+------+----------------------------------------------------------------------------------------------------------------------------------------------------------------------------------------------+\n",
      "|userId|recommendations                                                                                                                                                                               |\n",
      "+------+----------------------------------------------------------------------------------------------------------------------------------------------------------------------------------------------+\n",
      "|151   |[[188, 6.6401634], [58301, 6.601354], [93840, 6.435652], [7720, 6.424265], [1211, 6.3180017], [97225, 6.2901716], [62155, 6.0972524], [6818, 6.0305104], [97306, 5.9089346], [4351, 5.903432]]|\n",
      "+------+----------------------------------------------------------------------------------------------------------------------------------------------------------------------------------------------+\n",
      "\n"
     ]
    }
   ],
   "source": [
    "recommendations_151.show(truncate=False)"
   ]
  },
  {
   "cell_type": "code",
   "execution_count": 8,
   "metadata": {},
   "outputs": [
    {
     "name": "stdout",
     "output_type": "stream",
     "text": [
      "+------+---------------------------------------------------------------------------------------------------------------------------------------------------------------------------------------+\n",
      "|userId|recommendations                                                                                                                                                                        |\n",
      "+------+---------------------------------------------------------------------------------------------------------------------------------------------------------------------------------------+\n",
      "|300   |[[89904, 7.9275184], [5785, 7.7424746], [1218, 7.717198], [1131, 7.5375314], [85, 7.5194035], [1883, 7.447788], [3030, 7.241143], [3089, 7.1625175], [215, 6.987399], [800, 6.8838964]]|\n",
      "+------+---------------------------------------------------------------------------------------------------------------------------------------------------------------------------------------+\n",
      "\n"
     ]
    }
   ],
   "source": [
    "recommendations_300.show(truncate=False)"
   ]
  },
  {
   "cell_type": "markdown",
   "metadata": {},
   "source": [
    "At this point, I can see that the model is generating ten movieIDs and ratings for each of the users, but the output isn't very user-friendly. Let's see if I can get that to look a little nicer."
   ]
  },
  {
   "cell_type": "code",
   "execution_count": 9,
   "metadata": {},
   "outputs": [],
   "source": [
    "import pandas as pd\n",
    "\n",
    "def prettyResults(sparkDF):\n",
    "    # This function will take a spark dataframe and return a pandas dataframe with the top 10 recommendations\n",
    "    # The returned dataframe will only have two columns: 'Movie' and 'Predicted_Rating'\n",
    "    pd.set_option('display.max_colwidth', -1) # I always want to display the full column width\n",
    "    tempDF = sparkDF.toPandas()\n",
    "    movie = []\n",
    "    rating = []\n",
    "    \n",
    "    # loop to populate movie and rating lists\n",
    "    for i in range(len(tempDF.recommendations[0])):\n",
    "        movie.append(tempDF.recommendations[0][i][0])\n",
    "        rating.append(tempDF.recommendations[0][i][1])\n",
    "    \n",
    "    # creating the pandas dataframe with movies and ratings\n",
    "    df = pd.DataFrame({'Movie': movie, 'Predicted_Rating': rating})\n",
    "    \n",
    "    return df\n",
    "\n",
    "def name_retriever(movie_id, df):\n",
    "    # This function takes a movie_id number and the original spark dataframe of ratings\n",
    "    # It returns the title of that movie_id\n",
    "    return df.filter(df.movieId == movie_id).select('title').collect()[0][0]\n",
    "\n",
    "def namedResults(df):\n",
    "    # This function takes the dataframe from prettyResults and swaps the movie title for the movie_id\n",
    "    # It returns a dataframe with 'Movie' and 'Predicted_Rating' columns that shows the title of each movie\n",
    "    for i in range(len(df)):\n",
    "        df.Movie[i] = name_retriever(int(df.Movie[i]), ratings)\n",
    "    return df"
   ]
  },
  {
   "cell_type": "markdown",
   "metadata": {},
   "source": [
    "Now, let's check those same users again- this time using the functions I just created to display the recommendations in a much more user-friendly format"
   ]
  },
  {
   "cell_type": "code",
   "execution_count": 10,
   "metadata": {},
   "outputs": [
    {
     "name": "stdout",
     "output_type": "stream",
     "text": [
      "Top 10 Recommendations for userId 127\n"
     ]
    },
    {
     "data": {
      "text/html": [
       "<div>\n",
       "<style scoped>\n",
       "    .dataframe tbody tr th:only-of-type {\n",
       "        vertical-align: middle;\n",
       "    }\n",
       "\n",
       "    .dataframe tbody tr th {\n",
       "        vertical-align: top;\n",
       "    }\n",
       "\n",
       "    .dataframe thead th {\n",
       "        text-align: right;\n",
       "    }\n",
       "</style>\n",
       "<table border=\"1\" class=\"dataframe\">\n",
       "  <thead>\n",
       "    <tr style=\"text-align: right;\">\n",
       "      <th></th>\n",
       "      <th>Movie</th>\n",
       "      <th>Predicted_Rating</th>\n",
       "    </tr>\n",
       "  </thead>\n",
       "  <tbody>\n",
       "    <tr>\n",
       "      <td>0</td>\n",
       "      <td>Miss March (2009)</td>\n",
       "      <td>11.197943</td>\n",
       "    </tr>\n",
       "    <tr>\n",
       "      <td>1</td>\n",
       "      <td>Just Go with It (2011)</td>\n",
       "      <td>9.942365</td>\n",
       "    </tr>\n",
       "    <tr>\n",
       "      <td>2</td>\n",
       "      <td>Ultraviolet (2006)</td>\n",
       "      <td>9.480051</td>\n",
       "    </tr>\n",
       "    <tr>\n",
       "      <td>3</td>\n",
       "      <td>Gigi (1958)</td>\n",
       "      <td>9.322339</td>\n",
       "    </tr>\n",
       "    <tr>\n",
       "      <td>4</td>\n",
       "      <td>Family Stone, The (2005)</td>\n",
       "      <td>9.244039</td>\n",
       "    </tr>\n",
       "    <tr>\n",
       "      <td>5</td>\n",
       "      <td>Bachelor, The (1999)</td>\n",
       "      <td>9.199526</td>\n",
       "    </tr>\n",
       "    <tr>\n",
       "      <td>6</td>\n",
       "      <td>Calendar Girls (2003)</td>\n",
       "      <td>8.920888</td>\n",
       "    </tr>\n",
       "    <tr>\n",
       "      <td>7</td>\n",
       "      <td>View to a Kill, A (1985)</td>\n",
       "      <td>8.879270</td>\n",
       "    </tr>\n",
       "    <tr>\n",
       "      <td>8</td>\n",
       "      <td>King and I, The (1956)</td>\n",
       "      <td>8.765781</td>\n",
       "    </tr>\n",
       "    <tr>\n",
       "      <td>9</td>\n",
       "      <td>Michael (1996)</td>\n",
       "      <td>8.658605</td>\n",
       "    </tr>\n",
       "  </tbody>\n",
       "</table>\n",
       "</div>"
      ],
      "text/plain": [
       "                      Movie  Predicted_Rating\n",
       "0  Miss March (2009)         11.197943       \n",
       "1  Just Go with It (2011)    9.942365        \n",
       "2  Ultraviolet (2006)        9.480051        \n",
       "3  Gigi (1958)               9.322339        \n",
       "4  Family Stone, The (2005)  9.244039        \n",
       "5  Bachelor, The (1999)      9.199526        \n",
       "6  Calendar Girls (2003)     8.920888        \n",
       "7  View to a Kill, A (1985)  8.879270        \n",
       "8  King and I, The (1956)    8.765781        \n",
       "9  Michael (1996)            8.658605        "
      ]
     },
     "execution_count": 10,
     "metadata": {},
     "output_type": "execute_result"
    }
   ],
   "source": [
    "df127 = prettyResults(recommendations_127)\n",
    "namedResults(df127)\n",
    "print(\"Top 10 Recommendations for userId 127\")\n",
    "df127"
   ]
  },
  {
   "cell_type": "code",
   "execution_count": 11,
   "metadata": {},
   "outputs": [
    {
     "name": "stdout",
     "output_type": "stream",
     "text": [
      "Top 10 Recommendations for userId 151\n"
     ]
    },
    {
     "data": {
      "text/html": [
       "<div>\n",
       "<style scoped>\n",
       "    .dataframe tbody tr th:only-of-type {\n",
       "        vertical-align: middle;\n",
       "    }\n",
       "\n",
       "    .dataframe tbody tr th {\n",
       "        vertical-align: top;\n",
       "    }\n",
       "\n",
       "    .dataframe thead th {\n",
       "        text-align: right;\n",
       "    }\n",
       "</style>\n",
       "<table border=\"1\" class=\"dataframe\">\n",
       "  <thead>\n",
       "    <tr style=\"text-align: right;\">\n",
       "      <th></th>\n",
       "      <th>Movie</th>\n",
       "      <th>Predicted_Rating</th>\n",
       "    </tr>\n",
       "  </thead>\n",
       "  <tbody>\n",
       "    <tr>\n",
       "      <td>0</td>\n",
       "      <td>Prophecy, The (1995)</td>\n",
       "      <td>6.640163</td>\n",
       "    </tr>\n",
       "    <tr>\n",
       "      <td>1</td>\n",
       "      <td>Funny Games U.S. (2007)</td>\n",
       "      <td>6.601354</td>\n",
       "    </tr>\n",
       "    <tr>\n",
       "      <td>2</td>\n",
       "      <td>Cabin in the Woods, The (2012)</td>\n",
       "      <td>6.435652</td>\n",
       "    </tr>\n",
       "    <tr>\n",
       "      <td>3</td>\n",
       "      <td>Four Musketeers, The (1974)</td>\n",
       "      <td>6.424265</td>\n",
       "    </tr>\n",
       "    <tr>\n",
       "      <td>4</td>\n",
       "      <td>Wings of Desire (Himmel über Berlin, Der) (1987)</td>\n",
       "      <td>6.318002</td>\n",
       "    </tr>\n",
       "    <tr>\n",
       "      <td>5</td>\n",
       "      <td>Hotel Transylvania (2012)</td>\n",
       "      <td>6.290172</td>\n",
       "    </tr>\n",
       "    <tr>\n",
       "      <td>6</td>\n",
       "      <td>Nick and Norah's Infinite Playlist (2008)</td>\n",
       "      <td>6.097252</td>\n",
       "    </tr>\n",
       "    <tr>\n",
       "      <td>7</td>\n",
       "      <td>Come and See (Idi i smotri) (1985)</td>\n",
       "      <td>6.030510</td>\n",
       "    </tr>\n",
       "    <tr>\n",
       "      <td>8</td>\n",
       "      <td>Seven Psychopaths (2012)</td>\n",
       "      <td>5.908935</td>\n",
       "    </tr>\n",
       "    <tr>\n",
       "      <td>9</td>\n",
       "      <td>Point Break (1991)</td>\n",
       "      <td>5.903432</td>\n",
       "    </tr>\n",
       "  </tbody>\n",
       "</table>\n",
       "</div>"
      ],
      "text/plain": [
       "                                              Movie  Predicted_Rating\n",
       "0  Prophecy, The (1995)                              6.640163        \n",
       "1  Funny Games U.S. (2007)                           6.601354        \n",
       "2  Cabin in the Woods, The (2012)                    6.435652        \n",
       "3  Four Musketeers, The (1974)                       6.424265        \n",
       "4  Wings of Desire (Himmel über Berlin, Der) (1987)  6.318002        \n",
       "5  Hotel Transylvania (2012)                         6.290172        \n",
       "6  Nick and Norah's Infinite Playlist (2008)         6.097252        \n",
       "7  Come and See (Idi i smotri) (1985)                6.030510        \n",
       "8  Seven Psychopaths (2012)                          5.908935        \n",
       "9  Point Break (1991)                                5.903432        "
      ]
     },
     "execution_count": 11,
     "metadata": {},
     "output_type": "execute_result"
    }
   ],
   "source": [
    "df151 = prettyResults(recommendations_151)\n",
    "namedResults(df151)\n",
    "print(\"Top 10 Recommendations for userId 151\")\n",
    "df151"
   ]
  },
  {
   "cell_type": "code",
   "execution_count": 12,
   "metadata": {},
   "outputs": [
    {
     "name": "stdout",
     "output_type": "stream",
     "text": [
      "Top 10 Recommendations for userId 300\n"
     ]
    },
    {
     "data": {
      "text/html": [
       "<div>\n",
       "<style scoped>\n",
       "    .dataframe tbody tr th:only-of-type {\n",
       "        vertical-align: middle;\n",
       "    }\n",
       "\n",
       "    .dataframe tbody tr th {\n",
       "        vertical-align: top;\n",
       "    }\n",
       "\n",
       "    .dataframe thead th {\n",
       "        text-align: right;\n",
       "    }\n",
       "</style>\n",
       "<table border=\"1\" class=\"dataframe\">\n",
       "  <thead>\n",
       "    <tr style=\"text-align: right;\">\n",
       "      <th></th>\n",
       "      <th>Movie</th>\n",
       "      <th>Predicted_Rating</th>\n",
       "    </tr>\n",
       "  </thead>\n",
       "  <tbody>\n",
       "    <tr>\n",
       "      <td>0</td>\n",
       "      <td>The Artist (2011)</td>\n",
       "      <td>7.927518</td>\n",
       "    </tr>\n",
       "    <tr>\n",
       "      <td>1</td>\n",
       "      <td>Jackass: The Movie (2002)</td>\n",
       "      <td>7.742475</td>\n",
       "    </tr>\n",
       "    <tr>\n",
       "      <td>2</td>\n",
       "      <td>Killer, The (Die xue shuang xiong) (1989)</td>\n",
       "      <td>7.717198</td>\n",
       "    </tr>\n",
       "    <tr>\n",
       "      <td>3</td>\n",
       "      <td>Jean de Florette (1986)</td>\n",
       "      <td>7.537531</td>\n",
       "    </tr>\n",
       "    <tr>\n",
       "      <td>4</td>\n",
       "      <td>Angels and Insects (1995)</td>\n",
       "      <td>7.519403</td>\n",
       "    </tr>\n",
       "    <tr>\n",
       "      <td>5</td>\n",
       "      <td>Bulworth (1998)</td>\n",
       "      <td>7.447788</td>\n",
       "    </tr>\n",
       "    <tr>\n",
       "      <td>6</td>\n",
       "      <td>Yojimbo (1961)</td>\n",
       "      <td>7.241143</td>\n",
       "    </tr>\n",
       "    <tr>\n",
       "      <td>7</td>\n",
       "      <td>Bicycle Thieves (a.k.a. The Bicycle Thief) (a.k.a. The Bicycle Thieves) (Ladri di biciclette) (1948)</td>\n",
       "      <td>7.162518</td>\n",
       "    </tr>\n",
       "    <tr>\n",
       "      <td>8</td>\n",
       "      <td>Before Sunrise (1995)</td>\n",
       "      <td>6.987399</td>\n",
       "    </tr>\n",
       "    <tr>\n",
       "      <td>9</td>\n",
       "      <td>Lone Star (1996)</td>\n",
       "      <td>6.883896</td>\n",
       "    </tr>\n",
       "  </tbody>\n",
       "</table>\n",
       "</div>"
      ],
      "text/plain": [
       "                                                                                                  Movie  \\\n",
       "0  The Artist (2011)                                                                                      \n",
       "1  Jackass: The Movie (2002)                                                                              \n",
       "2  Killer, The (Die xue shuang xiong) (1989)                                                              \n",
       "3  Jean de Florette (1986)                                                                                \n",
       "4  Angels and Insects (1995)                                                                              \n",
       "5  Bulworth (1998)                                                                                        \n",
       "6  Yojimbo (1961)                                                                                         \n",
       "7  Bicycle Thieves (a.k.a. The Bicycle Thief) (a.k.a. The Bicycle Thieves) (Ladri di biciclette) (1948)   \n",
       "8  Before Sunrise (1995)                                                                                  \n",
       "9  Lone Star (1996)                                                                                       \n",
       "\n",
       "   Predicted_Rating  \n",
       "0  7.927518          \n",
       "1  7.742475          \n",
       "2  7.717198          \n",
       "3  7.537531          \n",
       "4  7.519403          \n",
       "5  7.447788          \n",
       "6  7.241143          \n",
       "7  7.162518          \n",
       "8  6.987399          \n",
       "9  6.883896          "
      ]
     },
     "execution_count": 12,
     "metadata": {},
     "output_type": "execute_result"
    }
   ],
   "source": [
    "df300 = prettyResults(recommendations_300)\n",
    "namedResults(df300)\n",
    "print(\"Top 10 Recommendations for userId 300\")\n",
    "df300"
   ]
  }
 ],
 "metadata": {
  "kernelspec": {
   "display_name": "Python 3",
   "language": "python",
   "name": "python3"
  },
  "language_info": {
   "codemirror_mode": {
    "name": "ipython",
    "version": 3
   },
   "file_extension": ".py",
   "mimetype": "text/x-python",
   "name": "python",
   "nbconvert_exporter": "python",
   "pygments_lexer": "ipython3",
   "version": "3.7.6"
  }
 },
 "nbformat": 4,
 "nbformat_minor": 2
}
